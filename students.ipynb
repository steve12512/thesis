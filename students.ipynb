{
 "cells": [
  {
   "cell_type": "markdown",
   "metadata": {},
   "source": [
    "Read the dataset"
   ]
  },
  {
   "cell_type": "code",
   "execution_count": 21,
   "metadata": {},
   "outputs": [
    {
     "name": "stdout",
     "output_type": "stream",
     "text": [
      "   gender race_ethnicity parental_level_of_education  lunch  \\\n",
      "0       0        group B           bachelor's degree      1   \n",
      "1       0        group C                some college      1   \n",
      "2       0        group B             master's degree      1   \n",
      "3       1        group A          associate's degree      0   \n",
      "4       1        group C                some college      1   \n",
      "\n",
      "   test_preparation_course  math_score  reading_score  writing_score  \\\n",
      "0                        0          72             72             74   \n",
      "1                        1          69             90             88   \n",
      "2                        0          90             95             93   \n",
      "3                        0          47             57             44   \n",
      "4                        0          76             78             75   \n",
      "\n",
      "   total_score  average_score  \n",
      "0          218      72.666667  \n",
      "1          247      82.333333  \n",
      "2          278      92.666667  \n",
      "3          148      49.333333  \n",
      "4          229      76.333333  \n"
     ]
    }
   ],
   "source": [
    "import pandas as pd\n",
    "from sklearn.model_selection import train_test_split\n",
    "from fairlearn import metrics\n",
    "from fairlearn.metrics import MetricFrame, demographic_parity_difference, equal_opportunity_difference, MetricFrame\n",
    "\n",
    "\n",
    "# Load the dataset\n",
    "df = pd.read_csv('Cleaned_Students_Performance.csv')\n",
    "\n",
    "# Display the first few rows to understand the structure\n",
    "print(df.head())\n"
   ]
  },
  {
   "cell_type": "code",
   "execution_count": 2,
   "metadata": {},
   "outputs": [],
   "source": [
    "pd.set_option('display.max_columns', None)"
   ]
  },
  {
   "cell_type": "markdown",
   "metadata": {},
   "source": [
    "Encode categorical values"
   ]
  },
  {
   "cell_type": "code",
   "execution_count": 20,
   "metadata": {},
   "outputs": [
    {
     "name": "stdout",
     "output_type": "stream",
     "text": [
      "   math_score  reading_score  writing_score  total_score  average_score  \\\n",
      "0          72             72             74          218      72.666667   \n",
      "1          69             90             88          247      82.333333   \n",
      "2          90             95             93          278      92.666667   \n",
      "3          47             57             44          148      49.333333   \n",
      "4          76             78             75          229      76.333333   \n",
      "\n",
      "   gender_0  gender_1  race_ethnicity_group A  race_ethnicity_group B  \\\n",
      "0      True     False                   False                    True   \n",
      "1      True     False                   False                   False   \n",
      "2      True     False                   False                    True   \n",
      "3     False      True                    True                   False   \n",
      "4     False      True                   False                   False   \n",
      "\n",
      "   race_ethnicity_group C  race_ethnicity_group D  race_ethnicity_group E  \\\n",
      "0                   False                   False                   False   \n",
      "1                    True                   False                   False   \n",
      "2                   False                   False                   False   \n",
      "3                   False                   False                   False   \n",
      "4                    True                   False                   False   \n",
      "\n",
      "   parental_level_of_education_associate's degree  \\\n",
      "0                                           False   \n",
      "1                                           False   \n",
      "2                                           False   \n",
      "3                                            True   \n",
      "4                                           False   \n",
      "\n",
      "   parental_level_of_education_bachelor's degree  \\\n",
      "0                                           True   \n",
      "1                                          False   \n",
      "2                                          False   \n",
      "3                                          False   \n",
      "4                                          False   \n",
      "\n",
      "   parental_level_of_education_high school  \\\n",
      "0                                    False   \n",
      "1                                    False   \n",
      "2                                    False   \n",
      "3                                    False   \n",
      "4                                    False   \n",
      "\n",
      "   parental_level_of_education_master's degree  \\\n",
      "0                                        False   \n",
      "1                                        False   \n",
      "2                                         True   \n",
      "3                                        False   \n",
      "4                                        False   \n",
      "\n",
      "   parental_level_of_education_some college  \\\n",
      "0                                     False   \n",
      "1                                      True   \n",
      "2                                     False   \n",
      "3                                     False   \n",
      "4                                      True   \n",
      "\n",
      "   parental_level_of_education_some high school  lunch_0  lunch_1  \\\n",
      "0                                         False    False     True   \n",
      "1                                         False    False     True   \n",
      "2                                         False    False     True   \n",
      "3                                         False     True    False   \n",
      "4                                         False    False     True   \n",
      "\n",
      "   test_preparation_course_0  test_preparation_course_1  \n",
      "0                       True                      False  \n",
      "1                      False                       True  \n",
      "2                       True                      False  \n",
      "3                       True                      False  \n",
      "4                       True                      False  \n"
     ]
    }
   ],
   "source": [
    "# One-Hot Encoding for categorical variables\n",
    "df_encoded = pd.get_dummies(df, columns=['gender', 'race_ethnicity', 'parental_level_of_education', 'lunch', 'test_preparation_course'])\n",
    "\n",
    "# Display the first few rows after encoding\n",
    "print(df_encoded.head())\n"
   ]
  },
  {
   "cell_type": "code",
   "execution_count": 4,
   "metadata": {},
   "outputs": [],
   "source": [
    "\n",
    "# Split the data into training and testing sets (80% for training, 20% for testing)\n",
    "X = df_encoded.drop(['math_score', 'reading_score', 'writing_score'], axis=1)  # Features\n",
    "y_math = df_encoded['math_score']  # Target: Math Score\n",
    "y_reading = df_encoded['reading_score']  # Target: Reading Score\n",
    "y_writing = df_encoded['writing_score']  # Target: Writing Score\n",
    "\n",
    "# Splitting the data\n",
    "X_train, X_test, y_train_math, y_test_math = train_test_split(X, y_math, test_size=0.2, random_state=42)\n",
    "X_train, X_test, y_train_reading, y_test_reading = train_test_split(X, y_reading, test_size=0.2, random_state=42)\n",
    "X_train, X_test, y_train_writing, y_test_writing = train_test_split(X, y_writing, test_size=0.2, random_state=42)\n"
   ]
  },
  {
   "cell_type": "code",
   "execution_count": 5,
   "metadata": {},
   "outputs": [
    {
     "name": "stdout",
     "output_type": "stream",
     "text": [
      "MSE for Math: 12.90906562548371\n",
      "MSE for Reading: 9.10763187285127\n",
      "MSE for Writing: 7.235685984032025\n",
      "R^2 for Math: 0.9469501499743415\n",
      "R^2 for Reading: 0.9597513886106751\n",
      "R^2 for Writing: 0.9699785212886685\n"
     ]
    }
   ],
   "source": [
    "from sklearn.linear_model import LinearRegression\n",
    "from sklearn.metrics import mean_squared_error, r2_score\n",
    "\n",
    "# Initialize the model\n",
    "model_math = LinearRegression()\n",
    "model_reading = LinearRegression()\n",
    "model_writing = LinearRegression()\n",
    "\n",
    "# Fit the model on the training data\n",
    "model_math.fit(X_train, y_train_math)\n",
    "model_reading.fit(X_train, y_train_reading)\n",
    "model_writing.fit(X_train, y_train_writing)\n",
    "\n",
    "# Predict on the test data\n",
    "y_pred_math = model_math.predict(X_test)\n",
    "y_pred_reading = model_reading.predict(X_test)\n",
    "y_pred_writing = model_writing.predict(X_test)\n",
    "\n",
    "# Evaluate the model performance\n",
    "mse_math = mean_squared_error(y_test_math, y_pred_math)\n",
    "mse_reading = mean_squared_error(y_test_reading, y_pred_reading)\n",
    "mse_writing = mean_squared_error(y_test_writing, y_pred_writing)\n",
    "\n",
    "print(f'MSE for Math: {mse_math}')\n",
    "print(f'MSE for Reading: {mse_reading}')\n",
    "print(f'MSE for Writing: {mse_writing}')\n",
    "\n",
    "# R^2 Score to evaluate how well the models fit\n",
    "r2_math = r2_score(y_test_math, y_pred_math)\n",
    "r2_reading = r2_score(y_test_reading, y_pred_reading)\n",
    "r2_writing = r2_score(y_test_writing, y_pred_writing)\n",
    "\n",
    "print(f'R^2 for Math: {r2_math}')\n",
    "print(f'R^2 for Reading: {r2_reading}')\n",
    "print(f'R^2 for Writing: {r2_writing}')\n"
   ]
  },
  {
   "cell_type": "code",
   "execution_count": 6,
   "metadata": {},
   "outputs": [
    {
     "name": "stdout",
     "output_type": "stream",
     "text": [
      "                                           Feature  Math Coefficients  \\\n",
      "0                                      total_score      -2.507979e+12   \n",
      "1                                    average_score       7.523937e+12   \n",
      "2                                         gender_0      -1.188721e+10   \n",
      "3                                         gender_1      -1.188721e+10   \n",
      "4                           race_ethnicity_group A      -1.150925e+10   \n",
      "5                           race_ethnicity_group B      -1.150925e+10   \n",
      "6                           race_ethnicity_group C      -1.150925e+10   \n",
      "7                           race_ethnicity_group D      -1.150925e+10   \n",
      "8                           race_ethnicity_group E      -1.150925e+10   \n",
      "9   parental_level_of_education_associate's degree      -7.994419e+09   \n",
      "10   parental_level_of_education_bachelor's degree      -7.994419e+09   \n",
      "11         parental_level_of_education_high school      -7.994419e+09   \n",
      "12     parental_level_of_education_master's degree      -7.994419e+09   \n",
      "13        parental_level_of_education_some college      -7.994419e+09   \n",
      "14    parental_level_of_education_some high school      -7.994419e+09   \n",
      "15                                         lunch_0      -1.606119e+09   \n",
      "16                                         lunch_1      -1.606119e+09   \n",
      "17                       test_preparation_course_0       1.257748e+10   \n",
      "18                       test_preparation_course_1       1.257748e+10   \n",
      "\n",
      "    Reading Coefficients  Writing Coefficients  \n",
      "0           3.516591e+11          2.156320e+12  \n",
      "1          -1.054977e+12         -6.468960e+12  \n",
      "2           1.666779e+09          1.022043e+10  \n",
      "3           1.666779e+09          1.022043e+10  \n",
      "4           1.613782e+09          9.895467e+09  \n",
      "5           1.613782e+09          9.895467e+09  \n",
      "6           1.613782e+09          9.895467e+09  \n",
      "7           1.613782e+09          9.895467e+09  \n",
      "8           1.613782e+09          9.895467e+09  \n",
      "9           1.120947e+09          6.873473e+09  \n",
      "10          1.120947e+09          6.873473e+09  \n",
      "11          1.120947e+09          6.873473e+09  \n",
      "12          1.120947e+09          6.873473e+09  \n",
      "13          1.120947e+09          6.873473e+09  \n",
      "14          1.120947e+09          6.873473e+09  \n",
      "15          2.252038e+08          1.380915e+09  \n",
      "16          2.252038e+08          1.380915e+09  \n",
      "17         -1.763566e+09         -1.081391e+10  \n",
      "18         -1.763566e+09         -1.081391e+10  \n"
     ]
    }
   ],
   "source": [
    "# Coefficients for each feature\n",
    "coefficients_math = model_math.coef_\n",
    "coefficients_reading = model_reading.coef_\n",
    "coefficients_writing = model_writing.coef_\n",
    "\n",
    "# Display coefficients\n",
    "coefficients = pd.DataFrame({\n",
    "    'Feature': X.columns,\n",
    "    'Math Coefficients': coefficients_math,\n",
    "    'Reading Coefficients': coefficients_reading,\n",
    "    'Writing Coefficients': coefficients_writing\n",
    "})\n",
    "\n",
    "print(coefficients)\n"
   ]
  },
  {
   "cell_type": "code",
   "execution_count": 38,
   "metadata": {},
   "outputs": [],
   "source": [
    "\n",
    "#USED FOR CLASSIFICATION\n",
    "\n",
    "# # Fairness analysis using Fairlearn\n",
    "# def calculate_fairness(y_true, y_pred, sensitive_feature, feature_name):\n",
    "#     metric_frame = MetricFrame(\n",
    "#         metrics={'MSE': mean_squared_error, 'R^2': r2_score},\n",
    "#         y_true=y_true,\n",
    "#         y_pred=y_pred,\n",
    "#         sensitive_features=sensitive_feature\n",
    "#     )\n",
    "#     print(f\"\\nFairness metrics by {feature_name}:\")\n",
    "#     print(metric_frame.by_group)\n",
    "\n",
    "#     dp_diff = demographic_parity_difference(y_true, y_pred, sensitive_features=sensitive_feature)\n",
    "#     eo_diff = equal_opportunity_difference(y_true, y_pred, sensitive_features=sensitive_feature)\n",
    "\n",
    "#     print(f\"Demographic Parity Difference for {feature_name}: {dp_diff}\")\n",
    "#     print(f\"Equal Opportunity Difference for {feature_name}: {eo_diff}\")\n",
    "\n",
    "# # Analyze bias for Math scores with gender\n",
    "# print(\"\\nFairness analysis for Math scores by Gender:\")\n",
    "# calculate_fairness(y_test_math, y_pred_math, sensitive_features_test['gender'], \"Gender\")\n",
    "\n",
    "# # Analyze bias for Math scores with race\n",
    "# print(\"\\nFairness analysis for Math scores by Race/Ethnicity:\")\n",
    "# calculate_fairness(y_test_math, y_pred_math, sensitive_features_test['race_ethnicity'], \"Race/Ethnicity\")\n",
    "\n",
    "\n",
    "\n",
    "\n",
    "def calculate_fairness_regression(y_true, y_pred, sensitive_feature, feature_name):\n",
    "    # Create MetricFrame for regression metrics\n",
    "    metric_frame = MetricFrame(\n",
    "        metrics={'MSE': mean_squared_error, 'R^2': r2_score},\n",
    "        y_true=y_true,\n",
    "        y_pred=y_pred,\n",
    "        sensitive_features=sensitive_feature\n",
    "    )\n",
    "    print(f\"\\nFairness metrics by {feature_name}:\")\n",
    "    print(metric_frame.by_group)\n",
    "\n",
    "    # Group differences for MSE and R^2\n",
    "    mse_diff = metric_frame.difference(method='between_groups', metric='MSE')\n",
    "    r2_diff = metric_frame.difference(method='between_groups', metric='R^2')\n",
    "\n",
    "    print(f\"\\nGroup difference in MSE for {feature_name}: {mse_diff}\")\n",
    "    print(f\"Group difference in R^2 for {feature_name}: {r2_diff}\")\n"
   ]
  },
  {
   "cell_type": "markdown",
   "metadata": {},
   "source": [
    "Use Fairlearn\n"
   ]
  },
  {
   "cell_type": "code",
   "execution_count": null,
   "metadata": {},
   "outputs": [
    {
     "name": "stdout",
     "output_type": "stream",
     "text": [
      "\n",
      "Fairness analysis for Math scores by Gender (Regression):\n",
      "Regression fairness metrics by Gender:\n",
      "             MSE      RMSE  Mean Prediction\n",
      "gender                                     \n",
      "0       31.32848  5.597185        64.451082\n",
      "1       38.04621  6.168161        64.716951\n",
      "\n",
      "\n",
      "--------------------------------------------------\n",
      "\n",
      "Fairness analysis for Math scores by Race/Ethnicity (Regression):\n",
      "Regression fairness metrics by Race/Ethnicity:\n",
      "                      MSE      RMSE  Mean Prediction\n",
      "race_ethnicity                                      \n",
      "group A         28.313307  5.321025        69.556054\n",
      "group B         38.675812  6.218988        63.236688\n",
      "group C         27.678674  5.261053        64.421657\n",
      "group D         42.490722  6.518491        62.672163\n",
      "group E         32.888292  5.734831        67.671100\n",
      "\n",
      "\n",
      "--------------------------------------------------\n"
     ]
    },
    {
     "name": "stderr",
     "output_type": "stream",
     "text": [
      "C:\\Users\\steve\\AppData\\Roaming\\Python\\Python311\\site-packages\\sklearn\\metrics\\_regression.py:483: FutureWarning: 'squared' is deprecated in version 1.4 and will be removed in 1.6. To calculate the root mean squared error, use the function'root_mean_squared_error'.\n",
      "  warnings.warn(\n",
      "C:\\Users\\steve\\AppData\\Roaming\\Python\\Python311\\site-packages\\sklearn\\metrics\\_regression.py:483: FutureWarning: 'squared' is deprecated in version 1.4 and will be removed in 1.6. To calculate the root mean squared error, use the function'root_mean_squared_error'.\n",
      "  warnings.warn(\n",
      "C:\\Users\\steve\\AppData\\Roaming\\Python\\Python311\\site-packages\\sklearn\\metrics\\_regression.py:483: FutureWarning: 'squared' is deprecated in version 1.4 and will be removed in 1.6. To calculate the root mean squared error, use the function'root_mean_squared_error'.\n",
      "  warnings.warn(\n",
      "C:\\Users\\steve\\AppData\\Roaming\\Python\\Python311\\site-packages\\sklearn\\metrics\\_regression.py:483: FutureWarning: 'squared' is deprecated in version 1.4 and will be removed in 1.6. To calculate the root mean squared error, use the function'root_mean_squared_error'.\n",
      "  warnings.warn(\n",
      "C:\\Users\\steve\\AppData\\Roaming\\Python\\Python311\\site-packages\\sklearn\\metrics\\_regression.py:483: FutureWarning: 'squared' is deprecated in version 1.4 and will be removed in 1.6. To calculate the root mean squared error, use the function'root_mean_squared_error'.\n",
      "  warnings.warn(\n",
      "C:\\Users\\steve\\AppData\\Roaming\\Python\\Python311\\site-packages\\sklearn\\metrics\\_regression.py:483: FutureWarning: 'squared' is deprecated in version 1.4 and will be removed in 1.6. To calculate the root mean squared error, use the function'root_mean_squared_error'.\n",
      "  warnings.warn(\n",
      "C:\\Users\\steve\\AppData\\Roaming\\Python\\Python311\\site-packages\\sklearn\\metrics\\_regression.py:483: FutureWarning: 'squared' is deprecated in version 1.4 and will be removed in 1.6. To calculate the root mean squared error, use the function'root_mean_squared_error'.\n",
      "  warnings.warn(\n",
      "C:\\Users\\steve\\AppData\\Roaming\\Python\\Python311\\site-packages\\sklearn\\metrics\\_regression.py:483: FutureWarning: 'squared' is deprecated in version 1.4 and will be removed in 1.6. To calculate the root mean squared error, use the function'root_mean_squared_error'.\n",
      "  warnings.warn(\n",
      "C:\\Users\\steve\\AppData\\Roaming\\Python\\Python311\\site-packages\\sklearn\\metrics\\_regression.py:483: FutureWarning: 'squared' is deprecated in version 1.4 and will be removed in 1.6. To calculate the root mean squared error, use the function'root_mean_squared_error'.\n",
      "  warnings.warn(\n"
     ]
    }
   ],
   "source": [
    "def evaluate_regression_fairness(y_true, y_pred, sensitive_features, feature_name):\n",
    "    # MetricFrame for regression metrics\n",
    "    metric_frame = MetricFrame(\n",
    "        metrics={\n",
    "            'MSE': mean_squared_error,\n",
    "            'RMSE': lambda y, p: mean_squared_error(y, p, squared=False),  # Root MSE\n",
    "            'Mean Prediction': lambda y, p: p.mean(),  # Average predictions\n",
    "        },\n",
    "        y_true=y_true,\n",
    "        y_pred=y_pred,\n",
    "        sensitive_features=sensitive_features\n",
    "    )\n",
    "    print(f\"Regression fairness metrics by {feature_name}:\")\n",
    "    print(metric_frame.by_group)\n",
    "    print(\"\\n\")\n",
    "    print(\"-\" * 50)\n"
   ]
  },
  {
   "cell_type": "markdown",
   "metadata": {},
   "source": [
    "Fairness for math\n"
   ]
  },
  {
   "cell_type": "code",
   "execution_count": 42,
   "metadata": {},
   "outputs": [
    {
     "name": "stdout",
     "output_type": "stream",
     "text": [
      "\n",
      "Fairness analysis for Math scores by Gender (Regression):\n",
      "Regression fairness metrics by Gender:\n",
      "             MSE      RMSE  Mean Prediction\n",
      "gender                                     \n",
      "0       31.32848  5.597185        64.451082\n",
      "1       38.04621  6.168161        64.716951\n",
      "\n",
      "\n",
      "--------------------------------------------------\n",
      "\n",
      "Fairness analysis for Math scores by Race/Ethnicity (Regression):\n",
      "Regression fairness metrics by Race/Ethnicity:\n",
      "                      MSE      RMSE  Mean Prediction\n",
      "race_ethnicity                                      \n",
      "group A         28.313307  5.321025        69.556054\n",
      "group B         38.675812  6.218988        63.236688\n",
      "group C         27.678674  5.261053        64.421657\n",
      "group D         42.490722  6.518491        62.672163\n",
      "group E         32.888292  5.734831        67.671100\n",
      "\n",
      "\n",
      "--------------------------------------------------\n"
     ]
    },
    {
     "name": "stderr",
     "output_type": "stream",
     "text": [
      "C:\\Users\\steve\\AppData\\Roaming\\Python\\Python311\\site-packages\\sklearn\\metrics\\_regression.py:483: FutureWarning: 'squared' is deprecated in version 1.4 and will be removed in 1.6. To calculate the root mean squared error, use the function'root_mean_squared_error'.\n",
      "  warnings.warn(\n",
      "C:\\Users\\steve\\AppData\\Roaming\\Python\\Python311\\site-packages\\sklearn\\metrics\\_regression.py:483: FutureWarning: 'squared' is deprecated in version 1.4 and will be removed in 1.6. To calculate the root mean squared error, use the function'root_mean_squared_error'.\n",
      "  warnings.warn(\n",
      "C:\\Users\\steve\\AppData\\Roaming\\Python\\Python311\\site-packages\\sklearn\\metrics\\_regression.py:483: FutureWarning: 'squared' is deprecated in version 1.4 and will be removed in 1.6. To calculate the root mean squared error, use the function'root_mean_squared_error'.\n",
      "  warnings.warn(\n",
      "C:\\Users\\steve\\AppData\\Roaming\\Python\\Python311\\site-packages\\sklearn\\metrics\\_regression.py:483: FutureWarning: 'squared' is deprecated in version 1.4 and will be removed in 1.6. To calculate the root mean squared error, use the function'root_mean_squared_error'.\n",
      "  warnings.warn(\n",
      "C:\\Users\\steve\\AppData\\Roaming\\Python\\Python311\\site-packages\\sklearn\\metrics\\_regression.py:483: FutureWarning: 'squared' is deprecated in version 1.4 and will be removed in 1.6. To calculate the root mean squared error, use the function'root_mean_squared_error'.\n",
      "  warnings.warn(\n",
      "C:\\Users\\steve\\AppData\\Roaming\\Python\\Python311\\site-packages\\sklearn\\metrics\\_regression.py:483: FutureWarning: 'squared' is deprecated in version 1.4 and will be removed in 1.6. To calculate the root mean squared error, use the function'root_mean_squared_error'.\n",
      "  warnings.warn(\n",
      "C:\\Users\\steve\\AppData\\Roaming\\Python\\Python311\\site-packages\\sklearn\\metrics\\_regression.py:483: FutureWarning: 'squared' is deprecated in version 1.4 and will be removed in 1.6. To calculate the root mean squared error, use the function'root_mean_squared_error'.\n",
      "  warnings.warn(\n",
      "C:\\Users\\steve\\AppData\\Roaming\\Python\\Python311\\site-packages\\sklearn\\metrics\\_regression.py:483: FutureWarning: 'squared' is deprecated in version 1.4 and will be removed in 1.6. To calculate the root mean squared error, use the function'root_mean_squared_error'.\n",
      "  warnings.warn(\n",
      "C:\\Users\\steve\\AppData\\Roaming\\Python\\Python311\\site-packages\\sklearn\\metrics\\_regression.py:483: FutureWarning: 'squared' is deprecated in version 1.4 and will be removed in 1.6. To calculate the root mean squared error, use the function'root_mean_squared_error'.\n",
      "  warnings.warn(\n"
     ]
    }
   ],
   "source": [
    "print(\"\\nFairness analysis for Math scores by Gender (Regression):\")\n",
    "evaluate_regression_fairness(y_test_math, y_pred_math, df['gender'][:200], \"Gender\")\n",
    "\n",
    "print(\"\\nFairness analysis for Math scores by Race/Ethnicity (Regression):\")\n",
    "evaluate_regression_fairness(y_test_math, y_pred_math, df['race_ethnicity'][:200], \"Race/Ethnicity\")"
   ]
  },
  {
   "cell_type": "markdown",
   "metadata": {},
   "source": [
    "Fairness for Writing"
   ]
  },
  {
   "cell_type": "code",
   "execution_count": 44,
   "metadata": {},
   "outputs": [
    {
     "name": "stdout",
     "output_type": "stream",
     "text": [
      "\n",
      "Fairness analysis for Math scores by Gender (Regression):\n",
      "Regression fairness metrics by Gender:\n",
      "              MSE      RMSE  Mean Prediction\n",
      "gender                                      \n",
      "0       14.651368  3.827711        66.754855\n",
      "1       15.951315  3.993910        66.039765\n",
      "\n",
      "\n",
      "--------------------------------------------------\n",
      "\n",
      "Fairness analysis for Math scores by Race/Ethnicity (Regression):\n",
      "Regression fairness metrics by Race/Ethnicity:\n",
      "                      MSE      RMSE  Mean Prediction\n",
      "race_ethnicity                                      \n",
      "group A          9.897432  3.146018        71.081474\n",
      "group B         14.761787  3.842107        65.268540\n",
      "group C         13.078969  3.616486        66.043946\n",
      "group D         17.795313  4.218449        64.743517\n",
      "group E         19.830833  4.453182        69.238391\n",
      "\n",
      "\n",
      "--------------------------------------------------\n"
     ]
    },
    {
     "name": "stderr",
     "output_type": "stream",
     "text": [
      "C:\\Users\\steve\\AppData\\Roaming\\Python\\Python311\\site-packages\\sklearn\\metrics\\_regression.py:483: FutureWarning: 'squared' is deprecated in version 1.4 and will be removed in 1.6. To calculate the root mean squared error, use the function'root_mean_squared_error'.\n",
      "  warnings.warn(\n",
      "C:\\Users\\steve\\AppData\\Roaming\\Python\\Python311\\site-packages\\sklearn\\metrics\\_regression.py:483: FutureWarning: 'squared' is deprecated in version 1.4 and will be removed in 1.6. To calculate the root mean squared error, use the function'root_mean_squared_error'.\n",
      "  warnings.warn(\n",
      "C:\\Users\\steve\\AppData\\Roaming\\Python\\Python311\\site-packages\\sklearn\\metrics\\_regression.py:483: FutureWarning: 'squared' is deprecated in version 1.4 and will be removed in 1.6. To calculate the root mean squared error, use the function'root_mean_squared_error'.\n",
      "  warnings.warn(\n",
      "C:\\Users\\steve\\AppData\\Roaming\\Python\\Python311\\site-packages\\sklearn\\metrics\\_regression.py:483: FutureWarning: 'squared' is deprecated in version 1.4 and will be removed in 1.6. To calculate the root mean squared error, use the function'root_mean_squared_error'.\n",
      "  warnings.warn(\n",
      "C:\\Users\\steve\\AppData\\Roaming\\Python\\Python311\\site-packages\\sklearn\\metrics\\_regression.py:483: FutureWarning: 'squared' is deprecated in version 1.4 and will be removed in 1.6. To calculate the root mean squared error, use the function'root_mean_squared_error'.\n",
      "  warnings.warn(\n",
      "C:\\Users\\steve\\AppData\\Roaming\\Python\\Python311\\site-packages\\sklearn\\metrics\\_regression.py:483: FutureWarning: 'squared' is deprecated in version 1.4 and will be removed in 1.6. To calculate the root mean squared error, use the function'root_mean_squared_error'.\n",
      "  warnings.warn(\n",
      "C:\\Users\\steve\\AppData\\Roaming\\Python\\Python311\\site-packages\\sklearn\\metrics\\_regression.py:483: FutureWarning: 'squared' is deprecated in version 1.4 and will be removed in 1.6. To calculate the root mean squared error, use the function'root_mean_squared_error'.\n",
      "  warnings.warn(\n",
      "C:\\Users\\steve\\AppData\\Roaming\\Python\\Python311\\site-packages\\sklearn\\metrics\\_regression.py:483: FutureWarning: 'squared' is deprecated in version 1.4 and will be removed in 1.6. To calculate the root mean squared error, use the function'root_mean_squared_error'.\n",
      "  warnings.warn(\n",
      "C:\\Users\\steve\\AppData\\Roaming\\Python\\Python311\\site-packages\\sklearn\\metrics\\_regression.py:483: FutureWarning: 'squared' is deprecated in version 1.4 and will be removed in 1.6. To calculate the root mean squared error, use the function'root_mean_squared_error'.\n",
      "  warnings.warn(\n"
     ]
    }
   ],
   "source": [
    "print(\"\\nFairness analysis for Math scores by Gender (Regression):\")\n",
    "evaluate_regression_fairness(y_test_writing, y_pred_writing, df['gender'][:200], \"Gender\")\n",
    "\n",
    "print(\"\\nFairness analysis for Math scores by Race/Ethnicity (Regression):\")\n",
    "evaluate_regression_fairness(y_test_writing , y_pred_writing, df['race_ethnicity'][:200], \"Race/Ethnicity\")"
   ]
  },
  {
   "cell_type": "markdown",
   "metadata": {},
   "source": [
    "Fairness for reading"
   ]
  },
  {
   "cell_type": "code",
   "execution_count": 45,
   "metadata": {},
   "outputs": [
    {
     "name": "stdout",
     "output_type": "stream",
     "text": [
      "\n",
      "Fairness analysis for Math scores by Gender (Regression):\n",
      "Regression fairness metrics by Gender:\n",
      "              MSE      RMSE  Mean Prediction\n",
      "gender                                      \n",
      "0       12.384970  3.519229        67.833475\n",
      "1       13.315126  3.648990        67.236812\n",
      "\n",
      "\n",
      "--------------------------------------------------\n",
      "\n",
      "Fairness analysis for Math scores by Race/Ethnicity (Regression):\n",
      "Regression fairness metrics by Race/Ethnicity:\n",
      "                      MSE      RMSE  Mean Prediction\n",
      "race_ethnicity                                      \n",
      "group A         10.735036  3.276436        72.411150\n",
      "group B         17.913186  4.232397        65.952786\n",
      "group C         11.914604  3.451754        67.473948\n",
      "group D         10.450389  3.232706        65.815752\n",
      "group E         12.354612  3.514913        70.486057\n",
      "\n",
      "\n",
      "--------------------------------------------------\n"
     ]
    },
    {
     "name": "stderr",
     "output_type": "stream",
     "text": [
      "C:\\Users\\steve\\AppData\\Roaming\\Python\\Python311\\site-packages\\sklearn\\metrics\\_regression.py:483: FutureWarning: 'squared' is deprecated in version 1.4 and will be removed in 1.6. To calculate the root mean squared error, use the function'root_mean_squared_error'.\n",
      "  warnings.warn(\n",
      "C:\\Users\\steve\\AppData\\Roaming\\Python\\Python311\\site-packages\\sklearn\\metrics\\_regression.py:483: FutureWarning: 'squared' is deprecated in version 1.4 and will be removed in 1.6. To calculate the root mean squared error, use the function'root_mean_squared_error'.\n",
      "  warnings.warn(\n",
      "C:\\Users\\steve\\AppData\\Roaming\\Python\\Python311\\site-packages\\sklearn\\metrics\\_regression.py:483: FutureWarning: 'squared' is deprecated in version 1.4 and will be removed in 1.6. To calculate the root mean squared error, use the function'root_mean_squared_error'.\n",
      "  warnings.warn(\n",
      "C:\\Users\\steve\\AppData\\Roaming\\Python\\Python311\\site-packages\\sklearn\\metrics\\_regression.py:483: FutureWarning: 'squared' is deprecated in version 1.4 and will be removed in 1.6. To calculate the root mean squared error, use the function'root_mean_squared_error'.\n",
      "  warnings.warn(\n",
      "C:\\Users\\steve\\AppData\\Roaming\\Python\\Python311\\site-packages\\sklearn\\metrics\\_regression.py:483: FutureWarning: 'squared' is deprecated in version 1.4 and will be removed in 1.6. To calculate the root mean squared error, use the function'root_mean_squared_error'.\n",
      "  warnings.warn(\n",
      "C:\\Users\\steve\\AppData\\Roaming\\Python\\Python311\\site-packages\\sklearn\\metrics\\_regression.py:483: FutureWarning: 'squared' is deprecated in version 1.4 and will be removed in 1.6. To calculate the root mean squared error, use the function'root_mean_squared_error'.\n",
      "  warnings.warn(\n",
      "C:\\Users\\steve\\AppData\\Roaming\\Python\\Python311\\site-packages\\sklearn\\metrics\\_regression.py:483: FutureWarning: 'squared' is deprecated in version 1.4 and will be removed in 1.6. To calculate the root mean squared error, use the function'root_mean_squared_error'.\n",
      "  warnings.warn(\n",
      "C:\\Users\\steve\\AppData\\Roaming\\Python\\Python311\\site-packages\\sklearn\\metrics\\_regression.py:483: FutureWarning: 'squared' is deprecated in version 1.4 and will be removed in 1.6. To calculate the root mean squared error, use the function'root_mean_squared_error'.\n",
      "  warnings.warn(\n",
      "C:\\Users\\steve\\AppData\\Roaming\\Python\\Python311\\site-packages\\sklearn\\metrics\\_regression.py:483: FutureWarning: 'squared' is deprecated in version 1.4 and will be removed in 1.6. To calculate the root mean squared error, use the function'root_mean_squared_error'.\n",
      "  warnings.warn(\n"
     ]
    }
   ],
   "source": [
    "print(\"\\nFairness analysis for Math scores by Gender (Regression):\")\n",
    "evaluate_regression_fairness(y_test_reading, y_pred_reading, df['gender'][:200], \"Gender\")\n",
    "\n",
    "print(\"\\nFairness analysis for Math scores by Race/Ethnicity (Regression):\")\n",
    "evaluate_regression_fairness(y_test_reading, y_pred_reading, df['race_ethnicity'][:200], \"Race/Ethnicity\")"
   ]
  }
 ],
 "metadata": {
  "kernelspec": {
   "display_name": "Python 3",
   "language": "python",
   "name": "python3"
  },
  "language_info": {
   "codemirror_mode": {
    "name": "ipython",
    "version": 3
   },
   "file_extension": ".py",
   "mimetype": "text/x-python",
   "name": "python",
   "nbconvert_exporter": "python",
   "pygments_lexer": "ipython3",
   "version": "3.11.9"
  }
 },
 "nbformat": 4,
 "nbformat_minor": 2
}
