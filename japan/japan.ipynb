{
 "cells": [
  {
   "cell_type": "code",
   "execution_count": 6,
   "metadata": {},
   "outputs": [],
   "source": [
    "import pandas as pd\n",
    "pd.set_option(\"display.max_columns\", None)\n"
   ]
  },
  {
   "cell_type": "code",
   "execution_count": 2,
   "metadata": {},
   "outputs": [],
   "source": [
    "df = pd.read_csv('japan_heart_attack_dataset.csv')"
   ]
  },
  {
   "cell_type": "code",
   "execution_count": 3,
   "metadata": {},
   "outputs": [
    {
     "data": {
      "text/plain": [
       "<bound method NDFrame.describe of        Age  Gender Region Smoking_History Diabetes_History  \\\n",
       "0       56    Male  Urban             Yes               No   \n",
       "1       69    Male  Urban              No               No   \n",
       "2       46    Male  Rural             Yes               No   \n",
       "3       32  Female  Urban              No               No   \n",
       "4       60  Female  Rural              No               No   \n",
       "...    ...     ...    ...             ...              ...   \n",
       "29995   68  Female  Urban              No               No   \n",
       "29996   69    Male  Urban              No              Yes   \n",
       "29997   23  Female  Rural              No               No   \n",
       "29998   45    Male  Rural              No               No   \n",
       "29999   45    Male  Urban              No               No   \n",
       "\n",
       "      Hypertension_History  Cholesterol_Level Physical_Activity Diet_Quality  \\\n",
       "0                       No         186.400209          Moderate         Poor   \n",
       "1                       No         185.136747               Low         Good   \n",
       "2                       No         210.696611               Low      Average   \n",
       "3                       No         211.165478          Moderate         Good   \n",
       "4                       No         223.814253              High         Good   \n",
       "...                    ...                ...               ...          ...   \n",
       "29995                   No         200.331218          Moderate      Average   \n",
       "29996                   No         211.305863               Low         Good   \n",
       "29997                   No         247.182956          Moderate      Average   \n",
       "29998                   No         222.262521               Low         Poor   \n",
       "29999                   No         253.135837          Moderate      Average   \n",
       "\n",
       "      Alcohol_Consumption  ...  Extra_Column_6  Extra_Column_7  \\\n",
       "0                     Low  ...        0.007901        0.794583   \n",
       "1                     Low  ...        0.083933        0.688951   \n",
       "2                Moderate  ...        0.227205        0.496344   \n",
       "3                    High  ...        0.403182        0.741409   \n",
       "4                    High  ...        0.689787        0.904574   \n",
       "...                   ...  ...             ...             ...   \n",
       "29995                 Low  ...        0.372851        0.232427   \n",
       "29996            Moderate  ...        0.255930        0.114399   \n",
       "29997                High  ...        0.454533        0.639710   \n",
       "29998                High  ...        0.691867        0.984095   \n",
       "29999            Moderate  ...        0.552342        0.990695   \n",
       "\n",
       "       Extra_Column_8  Extra_Column_9  Extra_Column_10 Extra_Column_11  \\\n",
       "0            0.290779        0.497193         0.521995        0.799657   \n",
       "1            0.830164        0.634490         0.302043        0.043683   \n",
       "2            0.752107        0.181501         0.629180        0.018276   \n",
       "3            0.223968        0.329314         0.143191        0.907781   \n",
       "4            0.757098        0.337761         0.362375        0.728552   \n",
       "...               ...             ...              ...             ...   \n",
       "29995        0.790024        0.749277         0.293136        0.365538   \n",
       "29996        0.676403        0.758869         0.306554        0.850764   \n",
       "29997        0.778570        0.456975         0.316832        0.995417   \n",
       "29998        0.130295        0.934793         0.269407        0.589667   \n",
       "29999        0.128793        0.375513         0.345621        0.552751   \n",
       "\n",
       "      Extra_Column_12  Extra_Column_13  Extra_Column_14  Extra_Column_15  \n",
       "0            0.722398         0.148739         0.834010         0.061632  \n",
       "1            0.451668         0.878671         0.535602         0.617825  \n",
       "2            0.063227         0.146512         0.997296         0.974455  \n",
       "3            0.542322         0.922461         0.626217         0.228606  \n",
       "4            0.176699         0.484749         0.312091         0.452809  \n",
       "...               ...              ...              ...              ...  \n",
       "29995        0.199151         0.046626         0.145350         0.017896  \n",
       "29996        0.183183         0.701222         0.637014         0.095714  \n",
       "29997        0.516702         0.717160         0.061395         0.398348  \n",
       "29998        0.927645         0.334294         0.706216         0.667204  \n",
       "29999        0.142307         0.220502         0.553921         0.391322  \n",
       "\n",
       "[30000 rows x 32 columns]>"
      ]
     },
     "execution_count": 3,
     "metadata": {},
     "output_type": "execute_result"
    }
   ],
   "source": [
    "df.describe"
   ]
  },
  {
   "cell_type": "code",
   "execution_count": 4,
   "metadata": {},
   "outputs": [],
   "source": [
    "men = (df['Gender'] == 'Male').sum()\n",
    "women = (df['Gender'] == 'Female').sum()\n"
   ]
  },
  {
   "cell_type": "code",
   "execution_count": 5,
   "metadata": {},
   "outputs": [
    {
     "name": "stdout",
     "output_type": "stream",
     "text": [
      "15067 14933\n"
     ]
    }
   ],
   "source": [
    "print(men,women)"
   ]
  }
 ],
 "metadata": {
  "kernelspec": {
   "display_name": "Python 3",
   "language": "python",
   "name": "python3"
  },
  "language_info": {
   "codemirror_mode": {
    "name": "ipython",
    "version": 3
   },
   "file_extension": ".py",
   "mimetype": "text/x-python",
   "name": "python",
   "nbconvert_exporter": "python",
   "pygments_lexer": "ipython3",
   "version": "3.11.9"
  }
 },
 "nbformat": 4,
 "nbformat_minor": 2
}
